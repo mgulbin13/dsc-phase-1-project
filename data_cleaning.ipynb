{
 "cells": [
  {
   "cell_type": "markdown",
   "metadata": {},
   "source": [
    "# Data Cleaning\n",
    "\n",
    "First, we will open the AviationData csv and look at the columns."
   ]
  },
  {
   "cell_type": "code",
   "execution_count": 248,
   "metadata": {},
   "outputs": [
    {
     "name": "stderr",
     "output_type": "stream",
     "text": [
      "/var/folders/4s/pf1zdv_x4_qcflpq4m943q0m0000gn/T/ipykernel_75844/3117126247.py:3: DtypeWarning: Columns (6,7,28) have mixed types. Specify dtype option on import or set low_memory=False.\n",
      "  df = pd.read_csv('./data/AviationData.csv', encoding='latin1')\n"
     ]
    },
    {
     "data": {
      "text/html": [
       "<div>\n",
       "<style scoped>\n",
       "    .dataframe tbody tr th:only-of-type {\n",
       "        vertical-align: middle;\n",
       "    }\n",
       "\n",
       "    .dataframe tbody tr th {\n",
       "        vertical-align: top;\n",
       "    }\n",
       "\n",
       "    .dataframe thead th {\n",
       "        text-align: right;\n",
       "    }\n",
       "</style>\n",
       "<table border=\"1\" class=\"dataframe\">\n",
       "  <thead>\n",
       "    <tr style=\"text-align: right;\">\n",
       "      <th></th>\n",
       "      <th>Event.Id</th>\n",
       "      <th>Investigation.Type</th>\n",
       "      <th>Accident.Number</th>\n",
       "      <th>Event.Date</th>\n",
       "      <th>Location</th>\n",
       "      <th>Country</th>\n",
       "      <th>Latitude</th>\n",
       "      <th>Longitude</th>\n",
       "      <th>Airport.Code</th>\n",
       "      <th>Airport.Name</th>\n",
       "      <th>...</th>\n",
       "      <th>Purpose.of.flight</th>\n",
       "      <th>Air.carrier</th>\n",
       "      <th>Total.Fatal.Injuries</th>\n",
       "      <th>Total.Serious.Injuries</th>\n",
       "      <th>Total.Minor.Injuries</th>\n",
       "      <th>Total.Uninjured</th>\n",
       "      <th>Weather.Condition</th>\n",
       "      <th>Broad.phase.of.flight</th>\n",
       "      <th>Report.Status</th>\n",
       "      <th>Publication.Date</th>\n",
       "    </tr>\n",
       "  </thead>\n",
       "  <tbody>\n",
       "    <tr>\n",
       "      <th>0</th>\n",
       "      <td>20001218X45444</td>\n",
       "      <td>Accident</td>\n",
       "      <td>SEA87LA080</td>\n",
       "      <td>1948-10-24</td>\n",
       "      <td>MOOSE CREEK, ID</td>\n",
       "      <td>United States</td>\n",
       "      <td>NaN</td>\n",
       "      <td>NaN</td>\n",
       "      <td>NaN</td>\n",
       "      <td>NaN</td>\n",
       "      <td>...</td>\n",
       "      <td>Personal</td>\n",
       "      <td>NaN</td>\n",
       "      <td>2.0</td>\n",
       "      <td>0.0</td>\n",
       "      <td>0.0</td>\n",
       "      <td>0.0</td>\n",
       "      <td>UNK</td>\n",
       "      <td>Cruise</td>\n",
       "      <td>Probable Cause</td>\n",
       "      <td>NaN</td>\n",
       "    </tr>\n",
       "    <tr>\n",
       "      <th>1</th>\n",
       "      <td>20001218X45447</td>\n",
       "      <td>Accident</td>\n",
       "      <td>LAX94LA336</td>\n",
       "      <td>1962-07-19</td>\n",
       "      <td>BRIDGEPORT, CA</td>\n",
       "      <td>United States</td>\n",
       "      <td>NaN</td>\n",
       "      <td>NaN</td>\n",
       "      <td>NaN</td>\n",
       "      <td>NaN</td>\n",
       "      <td>...</td>\n",
       "      <td>Personal</td>\n",
       "      <td>NaN</td>\n",
       "      <td>4.0</td>\n",
       "      <td>0.0</td>\n",
       "      <td>0.0</td>\n",
       "      <td>0.0</td>\n",
       "      <td>UNK</td>\n",
       "      <td>Unknown</td>\n",
       "      <td>Probable Cause</td>\n",
       "      <td>19-09-1996</td>\n",
       "    </tr>\n",
       "    <tr>\n",
       "      <th>2</th>\n",
       "      <td>20061025X01555</td>\n",
       "      <td>Accident</td>\n",
       "      <td>NYC07LA005</td>\n",
       "      <td>1974-08-30</td>\n",
       "      <td>Saltville, VA</td>\n",
       "      <td>United States</td>\n",
       "      <td>36.922223</td>\n",
       "      <td>-81.878056</td>\n",
       "      <td>NaN</td>\n",
       "      <td>NaN</td>\n",
       "      <td>...</td>\n",
       "      <td>Personal</td>\n",
       "      <td>NaN</td>\n",
       "      <td>3.0</td>\n",
       "      <td>NaN</td>\n",
       "      <td>NaN</td>\n",
       "      <td>NaN</td>\n",
       "      <td>IMC</td>\n",
       "      <td>Cruise</td>\n",
       "      <td>Probable Cause</td>\n",
       "      <td>26-02-2007</td>\n",
       "    </tr>\n",
       "    <tr>\n",
       "      <th>3</th>\n",
       "      <td>20001218X45448</td>\n",
       "      <td>Accident</td>\n",
       "      <td>LAX96LA321</td>\n",
       "      <td>1977-06-19</td>\n",
       "      <td>EUREKA, CA</td>\n",
       "      <td>United States</td>\n",
       "      <td>NaN</td>\n",
       "      <td>NaN</td>\n",
       "      <td>NaN</td>\n",
       "      <td>NaN</td>\n",
       "      <td>...</td>\n",
       "      <td>Personal</td>\n",
       "      <td>NaN</td>\n",
       "      <td>2.0</td>\n",
       "      <td>0.0</td>\n",
       "      <td>0.0</td>\n",
       "      <td>0.0</td>\n",
       "      <td>IMC</td>\n",
       "      <td>Cruise</td>\n",
       "      <td>Probable Cause</td>\n",
       "      <td>12-09-2000</td>\n",
       "    </tr>\n",
       "    <tr>\n",
       "      <th>4</th>\n",
       "      <td>20041105X01764</td>\n",
       "      <td>Accident</td>\n",
       "      <td>CHI79FA064</td>\n",
       "      <td>1979-08-02</td>\n",
       "      <td>Canton, OH</td>\n",
       "      <td>United States</td>\n",
       "      <td>NaN</td>\n",
       "      <td>NaN</td>\n",
       "      <td>NaN</td>\n",
       "      <td>NaN</td>\n",
       "      <td>...</td>\n",
       "      <td>Personal</td>\n",
       "      <td>NaN</td>\n",
       "      <td>1.0</td>\n",
       "      <td>2.0</td>\n",
       "      <td>NaN</td>\n",
       "      <td>0.0</td>\n",
       "      <td>VMC</td>\n",
       "      <td>Approach</td>\n",
       "      <td>Probable Cause</td>\n",
       "      <td>16-04-1980</td>\n",
       "    </tr>\n",
       "  </tbody>\n",
       "</table>\n",
       "<p>5 rows × 31 columns</p>\n",
       "</div>"
      ],
      "text/plain": [
       "         Event.Id Investigation.Type Accident.Number  Event.Date  \\\n",
       "0  20001218X45444           Accident      SEA87LA080  1948-10-24   \n",
       "1  20001218X45447           Accident      LAX94LA336  1962-07-19   \n",
       "2  20061025X01555           Accident      NYC07LA005  1974-08-30   \n",
       "3  20001218X45448           Accident      LAX96LA321  1977-06-19   \n",
       "4  20041105X01764           Accident      CHI79FA064  1979-08-02   \n",
       "\n",
       "          Location        Country   Latitude  Longitude Airport.Code  \\\n",
       "0  MOOSE CREEK, ID  United States        NaN        NaN          NaN   \n",
       "1   BRIDGEPORT, CA  United States        NaN        NaN          NaN   \n",
       "2    Saltville, VA  United States  36.922223 -81.878056          NaN   \n",
       "3       EUREKA, CA  United States        NaN        NaN          NaN   \n",
       "4       Canton, OH  United States        NaN        NaN          NaN   \n",
       "\n",
       "  Airport.Name  ... Purpose.of.flight Air.carrier Total.Fatal.Injuries  \\\n",
       "0          NaN  ...          Personal         NaN                  2.0   \n",
       "1          NaN  ...          Personal         NaN                  4.0   \n",
       "2          NaN  ...          Personal         NaN                  3.0   \n",
       "3          NaN  ...          Personal         NaN                  2.0   \n",
       "4          NaN  ...          Personal         NaN                  1.0   \n",
       "\n",
       "  Total.Serious.Injuries Total.Minor.Injuries Total.Uninjured  \\\n",
       "0                    0.0                  0.0             0.0   \n",
       "1                    0.0                  0.0             0.0   \n",
       "2                    NaN                  NaN             NaN   \n",
       "3                    0.0                  0.0             0.0   \n",
       "4                    2.0                  NaN             0.0   \n",
       "\n",
       "  Weather.Condition  Broad.phase.of.flight   Report.Status Publication.Date  \n",
       "0               UNK                 Cruise  Probable Cause              NaN  \n",
       "1               UNK                Unknown  Probable Cause       19-09-1996  \n",
       "2               IMC                 Cruise  Probable Cause       26-02-2007  \n",
       "3               IMC                 Cruise  Probable Cause       12-09-2000  \n",
       "4               VMC               Approach  Probable Cause       16-04-1980  \n",
       "\n",
       "[5 rows x 31 columns]"
      ]
     },
     "execution_count": 248,
     "metadata": {},
     "output_type": "execute_result"
    }
   ],
   "source": [
    "import pandas as pd\n",
    " \n",
    "df = pd.read_csv('./data/AviationData.csv', encoding='latin1')\n",
    "\n",
    "df.head(5)"
   ]
  },
  {
   "cell_type": "markdown",
   "metadata": {},
   "source": [
    "Then, we will look at the column names and the dataframe info to find possible null values."
   ]
  },
  {
   "cell_type": "code",
   "execution_count": 249,
   "metadata": {},
   "outputs": [
    {
     "data": {
      "text/plain": [
       "Index(['Event.Id', 'Investigation.Type', 'Accident.Number', 'Event.Date',\n",
       "       'Location', 'Country', 'Latitude', 'Longitude', 'Airport.Code',\n",
       "       'Airport.Name', 'Injury.Severity', 'Aircraft.damage',\n",
       "       'Aircraft.Category', 'Registration.Number', 'Make', 'Model',\n",
       "       'Amateur.Built', 'Number.of.Engines', 'Engine.Type', 'FAR.Description',\n",
       "       'Schedule', 'Purpose.of.flight', 'Air.carrier', 'Total.Fatal.Injuries',\n",
       "       'Total.Serious.Injuries', 'Total.Minor.Injuries', 'Total.Uninjured',\n",
       "       'Weather.Condition', 'Broad.phase.of.flight', 'Report.Status',\n",
       "       'Publication.Date'],\n",
       "      dtype='object')"
      ]
     },
     "execution_count": 249,
     "metadata": {},
     "output_type": "execute_result"
    }
   ],
   "source": [
    "df.columns"
   ]
  },
  {
   "cell_type": "code",
   "execution_count": 250,
   "metadata": {},
   "outputs": [
    {
     "name": "stdout",
     "output_type": "stream",
     "text": [
      "<class 'pandas.core.frame.DataFrame'>\n",
      "RangeIndex: 88889 entries, 0 to 88888\n",
      "Data columns (total 31 columns):\n",
      " #   Column                  Non-Null Count  Dtype  \n",
      "---  ------                  --------------  -----  \n",
      " 0   Event.Id                88889 non-null  object \n",
      " 1   Investigation.Type      88889 non-null  object \n",
      " 2   Accident.Number         88889 non-null  object \n",
      " 3   Event.Date              88889 non-null  object \n",
      " 4   Location                88837 non-null  object \n",
      " 5   Country                 88663 non-null  object \n",
      " 6   Latitude                34382 non-null  object \n",
      " 7   Longitude               34373 non-null  object \n",
      " 8   Airport.Code            50132 non-null  object \n",
      " 9   Airport.Name            52704 non-null  object \n",
      " 10  Injury.Severity         87889 non-null  object \n",
      " 11  Aircraft.damage         85695 non-null  object \n",
      " 12  Aircraft.Category       32287 non-null  object \n",
      " 13  Registration.Number     87507 non-null  object \n",
      " 14  Make                    88826 non-null  object \n",
      " 15  Model                   88797 non-null  object \n",
      " 16  Amateur.Built           88787 non-null  object \n",
      " 17  Number.of.Engines       82805 non-null  float64\n",
      " 18  Engine.Type             81793 non-null  object \n",
      " 19  FAR.Description         32023 non-null  object \n",
      " 20  Schedule                12582 non-null  object \n",
      " 21  Purpose.of.flight       82697 non-null  object \n",
      " 22  Air.carrier             16648 non-null  object \n",
      " 23  Total.Fatal.Injuries    77488 non-null  float64\n",
      " 24  Total.Serious.Injuries  76379 non-null  float64\n",
      " 25  Total.Minor.Injuries    76956 non-null  float64\n",
      " 26  Total.Uninjured         82977 non-null  float64\n",
      " 27  Weather.Condition       84397 non-null  object \n",
      " 28  Broad.phase.of.flight   61724 non-null  object \n",
      " 29  Report.Status           82505 non-null  object \n",
      " 30  Publication.Date        75118 non-null  object \n",
      "dtypes: float64(5), object(26)\n",
      "memory usage: 21.0+ MB\n"
     ]
    }
   ],
   "source": [
    "df.info()"
   ]
  },
  {
   "cell_type": "markdown",
   "metadata": {},
   "source": [
    "We decided to drop the Latitude, Longitude, Airport Code, and Airport Name columns, instead choosing to use the Location column."
   ]
  },
  {
   "cell_type": "code",
   "execution_count": 251,
   "metadata": {},
   "outputs": [
    {
     "name": "stdout",
     "output_type": "stream",
     "text": [
      "<class 'pandas.core.frame.DataFrame'>\n",
      "Index: 87408 entries, 0 to 88888\n",
      "Data columns (total 22 columns):\n",
      " #   Column                  Non-Null Count  Dtype  \n",
      "---  ------                  --------------  -----  \n",
      " 0   Event.Id                87408 non-null  object \n",
      " 1   Investigation.Type      87408 non-null  object \n",
      " 2   Accident.Number         87408 non-null  object \n",
      " 3   Event.Date              87408 non-null  object \n",
      " 4   Location                87408 non-null  object \n",
      " 5   Country                 87188 non-null  object \n",
      " 6   Aircraft.damage         84404 non-null  object \n",
      " 7   Aircraft.Category       31960 non-null  object \n",
      " 8   Registration.Number     87408 non-null  object \n",
      " 9   Make                    87408 non-null  object \n",
      " 10  Model                   87408 non-null  object \n",
      " 11  Amateur.Built           87377 non-null  object \n",
      " 12  Number.of.Engines       82575 non-null  float64\n",
      " 13  Engine.Type             81262 non-null  object \n",
      " 14  FAR.Description         31646 non-null  object \n",
      " 15  Purpose.of.flight       81812 non-null  object \n",
      " 16  Total.Fatal.Injuries    76585 non-null  float64\n",
      " 17  Total.Serious.Injuries  75827 non-null  float64\n",
      " 18  Total.Minor.Injuries    76474 non-null  float64\n",
      " 19  Total.Uninjured         82305 non-null  float64\n",
      " 20  Weather.Condition       83340 non-null  object \n",
      " 21  Broad.phase.of.flight   61572 non-null  object \n",
      "dtypes: float64(5), object(17)\n",
      "memory usage: 15.3+ MB\n"
     ]
    }
   ],
   "source": [
    "dropped_cols = ['Latitude', 'Longitude', 'Airport.Code', 'Airport.Name', 'Schedule', 'Injury.Severity', 'Publication.Date', 'Report.Status', 'Air.carrier']\n",
    "dropped_df = df.drop(columns=dropped_cols)\n",
    "dropped_df = dropped_df.dropna(axis='index', subset=['Location', 'Make', 'Model', 'Registration.Number'])\n",
    "dropped_df.info()"
   ]
  },
  {
   "cell_type": "markdown",
   "metadata": {},
   "source": [
    "Separated Location column into two new columns: City and State"
   ]
  },
  {
   "cell_type": "code",
   "execution_count": 252,
   "metadata": {},
   "outputs": [
    {
     "data": {
      "text/html": [
       "<div>\n",
       "<style scoped>\n",
       "    .dataframe tbody tr th:only-of-type {\n",
       "        vertical-align: middle;\n",
       "    }\n",
       "\n",
       "    .dataframe tbody tr th {\n",
       "        vertical-align: top;\n",
       "    }\n",
       "\n",
       "    .dataframe thead th {\n",
       "        text-align: right;\n",
       "    }\n",
       "</style>\n",
       "<table border=\"1\" class=\"dataframe\">\n",
       "  <thead>\n",
       "    <tr style=\"text-align: right;\">\n",
       "      <th></th>\n",
       "      <th>Location_City</th>\n",
       "      <th>Location_State</th>\n",
       "    </tr>\n",
       "  </thead>\n",
       "  <tbody>\n",
       "    <tr>\n",
       "      <th>0</th>\n",
       "      <td>Moose Creek</td>\n",
       "      <td>ID</td>\n",
       "    </tr>\n",
       "    <tr>\n",
       "      <th>1</th>\n",
       "      <td>Bridgeport</td>\n",
       "      <td>CA</td>\n",
       "    </tr>\n",
       "    <tr>\n",
       "      <th>2</th>\n",
       "      <td>Saltville</td>\n",
       "      <td>VA</td>\n",
       "    </tr>\n",
       "    <tr>\n",
       "      <th>3</th>\n",
       "      <td>Eureka</td>\n",
       "      <td>CA</td>\n",
       "    </tr>\n",
       "    <tr>\n",
       "      <th>4</th>\n",
       "      <td>Canton</td>\n",
       "      <td>OH</td>\n",
       "    </tr>\n",
       "    <tr>\n",
       "      <th>5</th>\n",
       "      <td>Boston</td>\n",
       "      <td>MA</td>\n",
       "    </tr>\n",
       "    <tr>\n",
       "      <th>6</th>\n",
       "      <td>Cotton</td>\n",
       "      <td>MN</td>\n",
       "    </tr>\n",
       "    <tr>\n",
       "      <th>7</th>\n",
       "      <td>Pullman</td>\n",
       "      <td>WA</td>\n",
       "    </tr>\n",
       "    <tr>\n",
       "      <th>8</th>\n",
       "      <td>East Hanover</td>\n",
       "      <td>NJ</td>\n",
       "    </tr>\n",
       "    <tr>\n",
       "      <th>9</th>\n",
       "      <td>Jacksonville</td>\n",
       "      <td>FL</td>\n",
       "    </tr>\n",
       "  </tbody>\n",
       "</table>\n",
       "</div>"
      ],
      "text/plain": [
       "  Location_City Location_State\n",
       "0   Moose Creek             ID\n",
       "1    Bridgeport             CA\n",
       "2     Saltville             VA\n",
       "3        Eureka             CA\n",
       "4        Canton             OH\n",
       "5        Boston             MA\n",
       "6        Cotton             MN\n",
       "7       Pullman             WA\n",
       "8  East Hanover             NJ\n",
       "9  Jacksonville             FL"
      ]
     },
     "execution_count": 252,
     "metadata": {},
     "output_type": "execute_result"
    }
   ],
   "source": [
    "dropped_df[['Location_City', 'Location_State']] = dropped_df['Location'].str.split(', ', n=1, expand=True)\n",
    "dropped_df['Location_City'] = dropped_df['Location_City'].str.title()\n",
    "dropped_df[['Location_City', 'Location_State']].head(10)"
   ]
  },
  {
   "cell_type": "markdown",
   "metadata": {},
   "source": [
    "Standardized the string format of the Make column."
   ]
  },
  {
   "cell_type": "code",
   "execution_count": 253,
   "metadata": {},
   "outputs": [
    {
     "data": {
      "text/plain": [
       "Make\n",
       "Cessna           26867\n",
       "Piper            14753\n",
       "Beech             5299\n",
       "Bell              2612\n",
       "Boeing            2477\n",
       "                 ...  \n",
       "Izatt                1\n",
       "Mince                1\n",
       "Dana A. Moore        1\n",
       "Slater               1\n",
       "Royse Ralph L        1\n",
       "Name: count, Length: 7534, dtype: int64"
      ]
     },
     "execution_count": 253,
     "metadata": {},
     "output_type": "execute_result"
    }
   ],
   "source": [
    "dropped_df['Make'] = dropped_df['Make'].str.title()\n",
    "dropped_df['Make'].value_counts()"
   ]
  },
  {
   "cell_type": "markdown",
   "metadata": {},
   "source": [
    "Let's take another look at dropped_df."
   ]
  },
  {
   "cell_type": "code",
   "execution_count": 254,
   "metadata": {},
   "outputs": [
    {
     "name": "stdout",
     "output_type": "stream",
     "text": [
      "<class 'pandas.core.frame.DataFrame'>\n",
      "Index: 87408 entries, 0 to 88888\n",
      "Data columns (total 24 columns):\n",
      " #   Column                  Non-Null Count  Dtype  \n",
      "---  ------                  --------------  -----  \n",
      " 0   Event.Id                87408 non-null  object \n",
      " 1   Investigation.Type      87408 non-null  object \n",
      " 2   Accident.Number         87408 non-null  object \n",
      " 3   Event.Date              87408 non-null  object \n",
      " 4   Location                87408 non-null  object \n",
      " 5   Country                 87188 non-null  object \n",
      " 6   Aircraft.damage         84404 non-null  object \n",
      " 7   Aircraft.Category       31960 non-null  object \n",
      " 8   Registration.Number     87408 non-null  object \n",
      " 9   Make                    87408 non-null  object \n",
      " 10  Model                   87408 non-null  object \n",
      " 11  Amateur.Built           87377 non-null  object \n",
      " 12  Number.of.Engines       82575 non-null  float64\n",
      " 13  Engine.Type             81262 non-null  object \n",
      " 14  FAR.Description         31646 non-null  object \n",
      " 15  Purpose.of.flight       81812 non-null  object \n",
      " 16  Total.Fatal.Injuries    76585 non-null  float64\n",
      " 17  Total.Serious.Injuries  75827 non-null  float64\n",
      " 18  Total.Minor.Injuries    76474 non-null  float64\n",
      " 19  Total.Uninjured         82305 non-null  float64\n",
      " 20  Weather.Condition       83340 non-null  object \n",
      " 21  Broad.phase.of.flight   61572 non-null  object \n",
      " 22  Location_City           87408 non-null  object \n",
      " 23  Location_State          86843 non-null  object \n",
      "dtypes: float64(5), object(19)\n",
      "memory usage: 16.7+ MB\n"
     ]
    }
   ],
   "source": [
    "dropped_df.info()"
   ]
  },
  {
   "cell_type": "markdown",
   "metadata": {},
   "source": [
    "Let's assume that if there are values in the Total Injuries columns that are NaN, they should be zero."
   ]
  },
  {
   "cell_type": "code",
   "execution_count": 255,
   "metadata": {},
   "outputs": [
    {
     "name": "stdout",
     "output_type": "stream",
     "text": [
      "<class 'pandas.core.frame.DataFrame'>\n",
      "Index: 87408 entries, 0 to 88888\n",
      "Data columns (total 24 columns):\n",
      " #   Column                  Non-Null Count  Dtype  \n",
      "---  ------                  --------------  -----  \n",
      " 0   Event.Id                87408 non-null  object \n",
      " 1   Investigation.Type      87408 non-null  object \n",
      " 2   Accident.Number         87408 non-null  object \n",
      " 3   Event.Date              87408 non-null  object \n",
      " 4   Location                87408 non-null  object \n",
      " 5   Country                 87188 non-null  object \n",
      " 6   Aircraft.damage         84404 non-null  object \n",
      " 7   Aircraft.Category       31960 non-null  object \n",
      " 8   Registration.Number     87408 non-null  object \n",
      " 9   Make                    87408 non-null  object \n",
      " 10  Model                   87408 non-null  object \n",
      " 11  Amateur.Built           87377 non-null  object \n",
      " 12  Number.of.Engines       82575 non-null  float64\n",
      " 13  Engine.Type             81262 non-null  object \n",
      " 14  FAR.Description         31646 non-null  object \n",
      " 15  Purpose.of.flight       81812 non-null  object \n",
      " 16  Total.Fatal.Injuries    87408 non-null  float64\n",
      " 17  Total.Serious.Injuries  87408 non-null  float64\n",
      " 18  Total.Minor.Injuries    87408 non-null  float64\n",
      " 19  Total.Uninjured         87408 non-null  float64\n",
      " 20  Weather.Condition       83340 non-null  object \n",
      " 21  Broad.phase.of.flight   61572 non-null  object \n",
      " 22  Location_City           87408 non-null  object \n",
      " 23  Location_State          86843 non-null  object \n",
      "dtypes: float64(5), object(19)\n",
      "memory usage: 16.7+ MB\n"
     ]
    }
   ],
   "source": [
    "dropped_df[['Total.Fatal.Injuries', 'Total.Serious.Injuries', 'Total.Minor.Injuries', 'Total.Uninjured']] = dropped_df[['Total.Fatal.Injuries', 'Total.Serious.Injuries', 'Total.Minor.Injuries', 'Total.Uninjured']].fillna(value=0)\n",
    "dropped_df.info()"
   ]
  },
  {
   "cell_type": "code",
   "execution_count": 262,
   "metadata": {},
   "outputs": [
    {
     "name": "stdout",
     "output_type": "stream",
     "text": [
      "<class 'pandas.core.frame.DataFrame'>\n",
      "Index: 87408 entries, 0 to 88888\n",
      "Data columns (total 24 columns):\n",
      " #   Column                  Non-Null Count  Dtype  \n",
      "---  ------                  --------------  -----  \n",
      " 0   Event.Id                87408 non-null  object \n",
      " 1   Investigation.Type      87408 non-null  object \n",
      " 2   Accident.Number         87408 non-null  object \n",
      " 3   Event.Date              87408 non-null  object \n",
      " 4   Location                87408 non-null  object \n",
      " 5   Country                 87188 non-null  object \n",
      " 6   Aircraft.damage         84404 non-null  object \n",
      " 7   Aircraft.Category       31960 non-null  object \n",
      " 8   Registration.Number     87408 non-null  object \n",
      " 9   Make                    87408 non-null  object \n",
      " 10  Model                   87408 non-null  object \n",
      " 11  Amateur.Built           87408 non-null  object \n",
      " 12  Number.of.Engines       82575 non-null  float64\n",
      " 13  Engine.Type             81262 non-null  object \n",
      " 14  FAR.Description         31646 non-null  object \n",
      " 15  Purpose.of.flight       81812 non-null  object \n",
      " 16  Total.Fatal.Injuries    87408 non-null  float64\n",
      " 17  Total.Serious.Injuries  87408 non-null  float64\n",
      " 18  Total.Minor.Injuries    87408 non-null  float64\n",
      " 19  Total.Uninjured         87408 non-null  float64\n",
      " 20  Weather.Condition       83340 non-null  object \n",
      " 21  Broad.phase.of.flight   61572 non-null  object \n",
      " 22  Location_City           87408 non-null  object \n",
      " 23  Location_State          86843 non-null  object \n",
      "dtypes: float64(5), object(19)\n",
      "memory usage: 16.7+ MB\n"
     ]
    }
   ],
   "source": [
    "dropped_df['Amateur.Built'] = dropped_df['Amateur.Built'].fillna('No')\n",
    "dropped_df.info()"
   ]
  },
  {
   "cell_type": "code",
   "execution_count": 266,
   "metadata": {},
   "outputs": [
    {
     "name": "stdout",
     "output_type": "stream",
     "text": [
      "<class 'pandas.core.frame.DataFrame'>\n",
      "Index: 87408 entries, 0 to 88888\n",
      "Data columns (total 24 columns):\n",
      " #   Column                  Non-Null Count  Dtype  \n",
      "---  ------                  --------------  -----  \n",
      " 0   Event.Id                87408 non-null  object \n",
      " 1   Investigation.Type      87408 non-null  object \n",
      " 2   Accident.Number         87408 non-null  object \n",
      " 3   Event.Date              87408 non-null  object \n",
      " 4   Location                87408 non-null  object \n",
      " 5   Country                 87188 non-null  object \n",
      " 6   Aircraft.damage         84404 non-null  object \n",
      " 7   Aircraft.Category       31960 non-null  object \n",
      " 8   Registration.Number     87408 non-null  object \n",
      " 9   Make                    87408 non-null  object \n",
      " 10  Model                   87408 non-null  object \n",
      " 11  Amateur.Built           87408 non-null  object \n",
      " 12  Number.of.Engines       82575 non-null  float64\n",
      " 13  Engine.Type             81262 non-null  object \n",
      " 14  FAR.Description         31646 non-null  object \n",
      " 15  Purpose.of.flight       81812 non-null  object \n",
      " 16  Total.Fatal.Injuries    87408 non-null  float64\n",
      " 17  Total.Serious.Injuries  87408 non-null  float64\n",
      " 18  Total.Minor.Injuries    87408 non-null  float64\n",
      " 19  Total.Uninjured         87408 non-null  float64\n",
      " 20  Weather.Condition       87408 non-null  object \n",
      " 21  Broad.phase.of.flight   61572 non-null  object \n",
      " 22  Location_City           87408 non-null  object \n",
      " 23  Location_State          86843 non-null  object \n",
      "dtypes: float64(5), object(19)\n",
      "memory usage: 16.7+ MB\n"
     ]
    }
   ],
   "source": [
    "dropped_df['Weather.Condition'] = dropped_df['Weather.Condition'].fillna('VMC')\n",
    "dropped_df['Weather.Condition'] = dropped_df['Weather.Condition'].str.upper()\n",
    "dropped_df['Weather.Condition'].value_counts()\n",
    "dropped_df.info()"
   ]
  },
  {
   "cell_type": "code",
   "execution_count": 269,
   "metadata": {},
   "outputs": [
    {
     "name": "stdout",
     "output_type": "stream",
     "text": [
      "<class 'pandas.core.frame.DataFrame'>\n",
      "Index: 87408 entries, 0 to 88888\n",
      "Data columns (total 24 columns):\n",
      " #   Column                  Non-Null Count  Dtype  \n",
      "---  ------                  --------------  -----  \n",
      " 0   Event.Id                87408 non-null  object \n",
      " 1   Investigation.Type      87408 non-null  object \n",
      " 2   Accident.Number         87408 non-null  object \n",
      " 3   Event.Date              87408 non-null  object \n",
      " 4   Location                87408 non-null  object \n",
      " 5   Country                 87188 non-null  object \n",
      " 6   Aircraft.damage         84404 non-null  object \n",
      " 7   Aircraft.Category       31960 non-null  object \n",
      " 8   Registration.Number     87408 non-null  object \n",
      " 9   Make                    87408 non-null  object \n",
      " 10  Model                   87408 non-null  object \n",
      " 11  Amateur.Built           87408 non-null  object \n",
      " 12  Number.of.Engines       82575 non-null  float64\n",
      " 13  Engine.Type             81262 non-null  object \n",
      " 14  FAR.Description         31646 non-null  object \n",
      " 15  Purpose.of.flight       87408 non-null  object \n",
      " 16  Total.Fatal.Injuries    87408 non-null  float64\n",
      " 17  Total.Serious.Injuries  87408 non-null  float64\n",
      " 18  Total.Minor.Injuries    87408 non-null  float64\n",
      " 19  Total.Uninjured         87408 non-null  float64\n",
      " 20  Weather.Condition       87408 non-null  object \n",
      " 21  Broad.phase.of.flight   61572 non-null  object \n",
      " 22  Location_City           87408 non-null  object \n",
      " 23  Location_State          86843 non-null  object \n",
      "dtypes: float64(5), object(19)\n",
      "memory usage: 16.7+ MB\n"
     ]
    }
   ],
   "source": [
    "dropped_df['Purpose.of.flight'] = dropped_df['Purpose.of.flight'].fillna('Unknown')\n",
    "dropped_df['Purpose.of.flight'].value_counts()\n",
    "dropped_df.info()"
   ]
  },
  {
   "cell_type": "code",
   "execution_count": null,
   "metadata": {},
   "outputs": [],
   "source": [
    "#dropped_df['Aircraft.damage'].value_counts()"
   ]
  },
  {
   "cell_type": "code",
   "execution_count": 257,
   "metadata": {},
   "outputs": [],
   "source": [
    "#dropped_df[dropped_df['Number.of.Engines'] == 0][['Aircraft.Category', 'Event.Date']]\n",
    "#dropped_df[(dropped_df['Number.of.Engines'] == 0) & (dropped_df['Aircraft.Category'] == 'Airplane')]\n",
    "#dropped_df[(dropped_df['Aircraft.damage'].isna()) & (dropped_df['Total.Fatal.Injuries'] > 0)]['Aircraft.damage'].fillna('Substantial')\n",
    "#dropped_df['Aircraft.damage'].value_counts()"
   ]
  },
  {
   "cell_type": "code",
   "execution_count": 258,
   "metadata": {},
   "outputs": [],
   "source": [
    "#dropped_df['Total.Fatal.Injuries'].value_counts().head(10)"
   ]
  },
  {
   "cell_type": "markdown",
   "metadata": {},
   "source": [
    "Now we'll drop entries where Make or Model is null"
   ]
  },
  {
   "cell_type": "markdown",
   "metadata": {},
   "source": [
    "## IN PROGRESS"
   ]
  },
  {
   "cell_type": "code",
   "execution_count": 259,
   "metadata": {},
   "outputs": [
    {
     "data": {
      "text/html": [
       "<div>\n",
       "<style scoped>\n",
       "    .dataframe tbody tr th:only-of-type {\n",
       "        vertical-align: middle;\n",
       "    }\n",
       "\n",
       "    .dataframe tbody tr th {\n",
       "        vertical-align: top;\n",
       "    }\n",
       "\n",
       "    .dataframe thead th {\n",
       "        text-align: right;\n",
       "    }\n",
       "</style>\n",
       "<table border=\"1\" class=\"dataframe\">\n",
       "  <thead>\n",
       "    <tr style=\"text-align: right;\">\n",
       "      <th></th>\n",
       "      <th>Make</th>\n",
       "      <th>Model</th>\n",
       "      <th>Aircraft.Category</th>\n",
       "    </tr>\n",
       "  </thead>\n",
       "  <tbody>\n",
       "    <tr>\n",
       "      <th>4</th>\n",
       "      <td>Cessna</td>\n",
       "      <td>501</td>\n",
       "      <td>NaN</td>\n",
       "    </tr>\n",
       "    <tr>\n",
       "      <th>3600</th>\n",
       "      <td>Piccard</td>\n",
       "      <td>AX-6</td>\n",
       "      <td>NaN</td>\n",
       "    </tr>\n",
       "    <tr>\n",
       "      <th>3741</th>\n",
       "      <td>Schweizer</td>\n",
       "      <td>2-33A</td>\n",
       "      <td>NaN</td>\n",
       "    </tr>\n",
       "    <tr>\n",
       "      <th>3772</th>\n",
       "      <td>Schweizer</td>\n",
       "      <td>SGS 1-26B</td>\n",
       "      <td>NaN</td>\n",
       "    </tr>\n",
       "    <tr>\n",
       "      <th>3870</th>\n",
       "      <td>Pratt-Read</td>\n",
       "      <td>PRG-1</td>\n",
       "      <td>NaN</td>\n",
       "    </tr>\n",
       "    <tr>\n",
       "      <th>...</th>\n",
       "      <td>...</td>\n",
       "      <td>...</td>\n",
       "      <td>...</td>\n",
       "    </tr>\n",
       "    <tr>\n",
       "      <th>88883</th>\n",
       "      <td>Air Tractor</td>\n",
       "      <td>AT502</td>\n",
       "      <td>NaN</td>\n",
       "    </tr>\n",
       "    <tr>\n",
       "      <th>88884</th>\n",
       "      <td>Piper</td>\n",
       "      <td>PA-28-151</td>\n",
       "      <td>NaN</td>\n",
       "    </tr>\n",
       "    <tr>\n",
       "      <th>88885</th>\n",
       "      <td>Bellanca</td>\n",
       "      <td>7ECA</td>\n",
       "      <td>NaN</td>\n",
       "    </tr>\n",
       "    <tr>\n",
       "      <th>88887</th>\n",
       "      <td>Cessna</td>\n",
       "      <td>210N</td>\n",
       "      <td>NaN</td>\n",
       "    </tr>\n",
       "    <tr>\n",
       "      <th>88888</th>\n",
       "      <td>Piper</td>\n",
       "      <td>PA-24-260</td>\n",
       "      <td>NaN</td>\n",
       "    </tr>\n",
       "  </tbody>\n",
       "</table>\n",
       "<p>4833 rows × 3 columns</p>\n",
       "</div>"
      ],
      "text/plain": [
       "              Make      Model Aircraft.Category\n",
       "4           Cessna        501               NaN\n",
       "3600       Piccard       AX-6               NaN\n",
       "3741     Schweizer      2-33A               NaN\n",
       "3772     Schweizer  SGS 1-26B               NaN\n",
       "3870    Pratt-Read      PRG-1               NaN\n",
       "...            ...        ...               ...\n",
       "88883  Air Tractor      AT502               NaN\n",
       "88884        Piper  PA-28-151               NaN\n",
       "88885     Bellanca       7ECA               NaN\n",
       "88887       Cessna       210N               NaN\n",
       "88888        Piper  PA-24-260               NaN\n",
       "\n",
       "[4833 rows x 3 columns]"
      ]
     },
     "execution_count": 259,
     "metadata": {},
     "output_type": "execute_result"
    }
   ],
   "source": [
    "dropped_df[dropped_df['Number.of.Engines'].isna()][['Make', 'Model', 'Aircraft.Category']]"
   ]
  },
  {
   "cell_type": "markdown",
   "metadata": {},
   "source": [
    "Next, we'll look at the Aircraft Category column. There is still useful information here, but a lot of it is missing. We will try to fill in missing values in this column with info from the Number of Engines column, following these rules:\n",
    "- 1 engine = 'Small Aircraft'\n",
    "- 2 engines = 'Medium Aircraft'\n",
    "- more than 2 engines = 'Large Aircraft'"
   ]
  },
  {
   "cell_type": "code",
   "execution_count": 260,
   "metadata": {},
   "outputs": [],
   "source": [
    "def num_engines_to_size(record):\n",
    "    if record['Number.of.Engines'] == 1:\n",
    "        return 'Small Aircraft'\n",
    "    elif record['Number.of.Engines'] > 2:\n",
    "        return 'Large Aircraft'\n",
    "    else:\n",
    "        return 'Medium Aircraft'"
   ]
  }
 ],
 "metadata": {
  "kernelspec": {
   "display_name": "base",
   "language": "python",
   "name": "python3"
  },
  "language_info": {
   "codemirror_mode": {
    "name": "ipython",
    "version": 3
   },
   "file_extension": ".py",
   "mimetype": "text/x-python",
   "name": "python",
   "nbconvert_exporter": "python",
   "pygments_lexer": "ipython3",
   "version": "3.12.7"
  }
 },
 "nbformat": 4,
 "nbformat_minor": 2
}
