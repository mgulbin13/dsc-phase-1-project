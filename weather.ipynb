{
 "cells": [
  {
   "cell_type": "markdown",
   "metadata": {},
   "source": [
    "# Research Topic : Weather\n",
    "\n",
    "In this notebook, we will be researching the relationship between weather conditions and accident severity. We will also look at how the number of injuries has changed over time in different weather conditions.\n",
    "\n",
    "**Hypothesis 1:** There are more serious injuries during weather conditions with low visibility.\n",
    "\n",
    "**Hypothesis 2:** The number of injuries due to IMC weather has gone up over time due to the increased amount of air traffic in the past two decades."
   ]
  },
  {
   "cell_type": "markdown",
   "metadata": {},
   "source": [
    "## Data Grouping"
   ]
  },
  {
   "cell_type": "markdown",
   "metadata": {},
   "source": [
    "First, we will start by importing necessary libraries and our data"
   ]
  },
  {
   "cell_type": "code",
   "execution_count": 3,
   "metadata": {},
   "outputs": [
    {
     "data": {
      "text/html": [
       "<div>\n",
       "<style scoped>\n",
       "    .dataframe tbody tr th:only-of-type {\n",
       "        vertical-align: middle;\n",
       "    }\n",
       "\n",
       "    .dataframe tbody tr th {\n",
       "        vertical-align: top;\n",
       "    }\n",
       "\n",
       "    .dataframe thead th {\n",
       "        text-align: right;\n",
       "    }\n",
       "</style>\n",
       "<table border=\"1\" class=\"dataframe\">\n",
       "  <thead>\n",
       "    <tr style=\"text-align: right;\">\n",
       "      <th></th>\n",
       "      <th>Event.Id</th>\n",
       "      <th>Investigation.Type</th>\n",
       "      <th>Accident.Number</th>\n",
       "      <th>Event.Date</th>\n",
       "      <th>Location</th>\n",
       "      <th>Country</th>\n",
       "      <th>Aircraft.damage</th>\n",
       "      <th>Registration.Number</th>\n",
       "      <th>Make</th>\n",
       "      <th>Model</th>\n",
       "      <th>...</th>\n",
       "      <th>Engine.Type</th>\n",
       "      <th>Purpose.of.flight</th>\n",
       "      <th>Total.Fatal.Injuries</th>\n",
       "      <th>Total.Serious.Injuries</th>\n",
       "      <th>Total.Minor.Injuries</th>\n",
       "      <th>Total.Uninjured</th>\n",
       "      <th>Weather.Condition</th>\n",
       "      <th>Broad.phase.of.flight</th>\n",
       "      <th>Location_City</th>\n",
       "      <th>Location_State</th>\n",
       "    </tr>\n",
       "  </thead>\n",
       "  <tbody>\n",
       "    <tr>\n",
       "      <th>0</th>\n",
       "      <td>20001218X45444</td>\n",
       "      <td>Accident</td>\n",
       "      <td>SEA87LA080</td>\n",
       "      <td>1948-10-24</td>\n",
       "      <td>MOOSE CREEK, ID</td>\n",
       "      <td>United States</td>\n",
       "      <td>Destroyed</td>\n",
       "      <td>NC6404</td>\n",
       "      <td>Stinson</td>\n",
       "      <td>108-3</td>\n",
       "      <td>...</td>\n",
       "      <td>Reciprocating</td>\n",
       "      <td>Personal</td>\n",
       "      <td>2.0</td>\n",
       "      <td>0.0</td>\n",
       "      <td>0.0</td>\n",
       "      <td>0.0</td>\n",
       "      <td>UNK</td>\n",
       "      <td>Cruise</td>\n",
       "      <td>Moose Creek</td>\n",
       "      <td>ID</td>\n",
       "    </tr>\n",
       "    <tr>\n",
       "      <th>1</th>\n",
       "      <td>20001218X45447</td>\n",
       "      <td>Accident</td>\n",
       "      <td>LAX94LA336</td>\n",
       "      <td>1962-07-19</td>\n",
       "      <td>BRIDGEPORT, CA</td>\n",
       "      <td>United States</td>\n",
       "      <td>Destroyed</td>\n",
       "      <td>N5069P</td>\n",
       "      <td>Piper</td>\n",
       "      <td>PA24-180</td>\n",
       "      <td>...</td>\n",
       "      <td>Reciprocating</td>\n",
       "      <td>Personal</td>\n",
       "      <td>4.0</td>\n",
       "      <td>0.0</td>\n",
       "      <td>0.0</td>\n",
       "      <td>0.0</td>\n",
       "      <td>UNK</td>\n",
       "      <td>Unknown</td>\n",
       "      <td>Bridgeport</td>\n",
       "      <td>CA</td>\n",
       "    </tr>\n",
       "    <tr>\n",
       "      <th>2</th>\n",
       "      <td>20061025X01555</td>\n",
       "      <td>Accident</td>\n",
       "      <td>NYC07LA005</td>\n",
       "      <td>1974-08-30</td>\n",
       "      <td>Saltville, VA</td>\n",
       "      <td>United States</td>\n",
       "      <td>Destroyed</td>\n",
       "      <td>N5142R</td>\n",
       "      <td>Cessna</td>\n",
       "      <td>172M</td>\n",
       "      <td>...</td>\n",
       "      <td>Reciprocating</td>\n",
       "      <td>Personal</td>\n",
       "      <td>3.0</td>\n",
       "      <td>0.0</td>\n",
       "      <td>0.0</td>\n",
       "      <td>0.0</td>\n",
       "      <td>IMC</td>\n",
       "      <td>Cruise</td>\n",
       "      <td>Saltville</td>\n",
       "      <td>VA</td>\n",
       "    </tr>\n",
       "    <tr>\n",
       "      <th>3</th>\n",
       "      <td>20001218X45448</td>\n",
       "      <td>Accident</td>\n",
       "      <td>LAX96LA321</td>\n",
       "      <td>1977-06-19</td>\n",
       "      <td>EUREKA, CA</td>\n",
       "      <td>United States</td>\n",
       "      <td>Destroyed</td>\n",
       "      <td>N1168J</td>\n",
       "      <td>Rockwell</td>\n",
       "      <td>112</td>\n",
       "      <td>...</td>\n",
       "      <td>Reciprocating</td>\n",
       "      <td>Personal</td>\n",
       "      <td>2.0</td>\n",
       "      <td>0.0</td>\n",
       "      <td>0.0</td>\n",
       "      <td>0.0</td>\n",
       "      <td>IMC</td>\n",
       "      <td>Cruise</td>\n",
       "      <td>Eureka</td>\n",
       "      <td>CA</td>\n",
       "    </tr>\n",
       "    <tr>\n",
       "      <th>5</th>\n",
       "      <td>20170710X52551</td>\n",
       "      <td>Accident</td>\n",
       "      <td>NYC79AA106</td>\n",
       "      <td>1979-09-17</td>\n",
       "      <td>BOSTON, MA</td>\n",
       "      <td>United States</td>\n",
       "      <td>Substantial</td>\n",
       "      <td>CF-TLU</td>\n",
       "      <td>Mcdonnell Douglas</td>\n",
       "      <td>DC9</td>\n",
       "      <td>...</td>\n",
       "      <td>Turbo Fan</td>\n",
       "      <td>Unknown</td>\n",
       "      <td>0.0</td>\n",
       "      <td>0.0</td>\n",
       "      <td>1.0</td>\n",
       "      <td>44.0</td>\n",
       "      <td>VMC</td>\n",
       "      <td>Climb</td>\n",
       "      <td>Boston</td>\n",
       "      <td>MA</td>\n",
       "    </tr>\n",
       "  </tbody>\n",
       "</table>\n",
       "<p>5 rows × 22 columns</p>\n",
       "</div>"
      ],
      "text/plain": [
       "         Event.Id Investigation.Type Accident.Number  Event.Date  \\\n",
       "0  20001218X45444           Accident      SEA87LA080  1948-10-24   \n",
       "1  20001218X45447           Accident      LAX94LA336  1962-07-19   \n",
       "2  20061025X01555           Accident      NYC07LA005  1974-08-30   \n",
       "3  20001218X45448           Accident      LAX96LA321  1977-06-19   \n",
       "5  20170710X52551           Accident      NYC79AA106  1979-09-17   \n",
       "\n",
       "          Location        Country Aircraft.damage Registration.Number  \\\n",
       "0  MOOSE CREEK, ID  United States       Destroyed              NC6404   \n",
       "1   BRIDGEPORT, CA  United States       Destroyed              N5069P   \n",
       "2    Saltville, VA  United States       Destroyed              N5142R   \n",
       "3       EUREKA, CA  United States       Destroyed              N1168J   \n",
       "5       BOSTON, MA  United States     Substantial              CF-TLU   \n",
       "\n",
       "                Make     Model  ...    Engine.Type  Purpose.of.flight  \\\n",
       "0            Stinson     108-3  ...  Reciprocating           Personal   \n",
       "1              Piper  PA24-180  ...  Reciprocating           Personal   \n",
       "2             Cessna      172M  ...  Reciprocating           Personal   \n",
       "3           Rockwell       112  ...  Reciprocating           Personal   \n",
       "5  Mcdonnell Douglas       DC9  ...      Turbo Fan            Unknown   \n",
       "\n",
       "  Total.Fatal.Injuries Total.Serious.Injuries  Total.Minor.Injuries  \\\n",
       "0                  2.0                    0.0                   0.0   \n",
       "1                  4.0                    0.0                   0.0   \n",
       "2                  3.0                    0.0                   0.0   \n",
       "3                  2.0                    0.0                   0.0   \n",
       "5                  0.0                    0.0                   1.0   \n",
       "\n",
       "   Total.Uninjured  Weather.Condition  Broad.phase.of.flight Location_City  \\\n",
       "0              0.0                UNK                 Cruise   Moose Creek   \n",
       "1              0.0                UNK                Unknown    Bridgeport   \n",
       "2              0.0                IMC                 Cruise     Saltville   \n",
       "3              0.0                IMC                 Cruise        Eureka   \n",
       "5             44.0                VMC                  Climb        Boston   \n",
       "\n",
       "  Location_State  \n",
       "0             ID  \n",
       "1             CA  \n",
       "2             VA  \n",
       "3             CA  \n",
       "5             MA  \n",
       "\n",
       "[5 rows x 22 columns]"
      ]
     },
     "execution_count": 3,
     "metadata": {},
     "output_type": "execute_result"
    }
   ],
   "source": [
    "import pandas as pd\n",
    "import numpy as np\n",
    "import seaborn as sns\n",
    "import matplotlib.pyplot as plt\n",
    "\n",
    "df = pd.read_csv('./data/AviationData_clean.csv', index_col=0)\n",
    "\n",
    "df.head(5)"
   ]
  },
  {
   "cell_type": "code",
   "execution_count": 111,
   "metadata": {},
   "outputs": [
    {
     "name": "stdout",
     "output_type": "stream",
     "text": [
      "<class 'pandas.core.frame.DataFrame'>\n",
      "Index: 29947 entries, 51959 to 88767\n",
      "Data columns (total 22 columns):\n",
      " #   Column                  Non-Null Count  Dtype         \n",
      "---  ------                  --------------  -----         \n",
      " 0   Event.Id                29947 non-null  object        \n",
      " 1   Investigation.Type      29947 non-null  object        \n",
      " 2   Accident.Number         29947 non-null  object        \n",
      " 3   Event.Date              29947 non-null  datetime64[ns]\n",
      " 4   Location                29947 non-null  object        \n",
      " 5   Country                 29946 non-null  object        \n",
      " 6   Aircraft.damage         29947 non-null  object        \n",
      " 7   Registration.Number     29947 non-null  object        \n",
      " 8   Make                    29947 non-null  object        \n",
      " 9   Model                   29947 non-null  object        \n",
      " 10  Amateur.Built           29947 non-null  object        \n",
      " 11  Number.of.Engines       29947 non-null  float64       \n",
      " 12  Engine.Type             29947 non-null  object        \n",
      " 13  Purpose.of.flight       29947 non-null  object        \n",
      " 14  Total.Fatal.Injuries    29947 non-null  float64       \n",
      " 15  Total.Serious.Injuries  29947 non-null  float64       \n",
      " 16  Total.Minor.Injuries    29947 non-null  float64       \n",
      " 17  Total.Uninjured         29947 non-null  float64       \n",
      " 18  Weather.Condition       29947 non-null  object        \n",
      " 19  Broad.phase.of.flight   29947 non-null  object        \n",
      " 20  Location_City           29944 non-null  object        \n",
      " 21  Location_State          29879 non-null  object        \n",
      "dtypes: datetime64[ns](1), float64(5), object(16)\n",
      "memory usage: 5.3+ MB\n"
     ]
    }
   ],
   "source": [
    "df['Event.Date'] = pd.to_datetime(df['Event.Date'])\n",
    "df = df[df['Event.Date'].dt.year >= 2002]\n",
    "df.info()"
   ]
  },
  {
   "cell_type": "markdown",
   "metadata": {},
   "source": [
    "Now, let's take a look at the values in the Weather Condition field."
   ]
  },
  {
   "cell_type": "code",
   "execution_count": 112,
   "metadata": {},
   "outputs": [
    {
     "data": {
      "text/plain": [
       "Weather.Condition\n",
       "VMC    28210\n",
       "IMC     1572\n",
       "UNK      165\n",
       "Name: count, dtype: int64"
      ]
     },
     "execution_count": 112,
     "metadata": {},
     "output_type": "execute_result"
    }
   ],
   "source": [
    "df['Weather.Condition'].value_counts()"
   ]
  },
  {
   "cell_type": "markdown",
   "metadata": {},
   "source": [
    "There are 3 different weather conditions:\n",
    "- VMC: short for Visual Meteorological Conditions, weather conditions that allow a pilot to navigate by visual reference to the ground and other landmarks (i.e. clear weather).\n",
    "- IMC: short for Instrument Meteorological Conditions, weather conditions that require a pilot to rely on flight instruments (i.e. stormy or very cloudy weather).\n",
    "- UNK: short for Unknown, weather data was not present in the report.\n",
    "\n",
    "For this report, we will only be focusing on VMC and IMC values.\n",
    "\n",
    "Let's group the dataframe by weather condition and show the sum of the injuries columns."
   ]
  },
  {
   "cell_type": "markdown",
   "metadata": {},
   "source": [
    "Let's focus on the 5 manufacturers that had the highest number of incidents."
   ]
  },
  {
   "cell_type": "code",
   "execution_count": 140,
   "metadata": {},
   "outputs": [
    {
     "data": {
      "text/plain": [
       "Make\n",
       "Cessna    8108\n",
       "Piper     4578\n",
       "Beech     1680\n",
       "Bell       799\n",
       "Boeing     575\n",
       "Name: count, dtype: int64"
      ]
     },
     "execution_count": 140,
     "metadata": {},
     "output_type": "execute_result"
    }
   ],
   "source": [
    "df.groupby('Make')['Event.Id'].count().sort_values(ascending=False).head(5)\n",
    "make_list = list(df.groupby('Make')['Event.Id'].count().sort_values(ascending=False).head(5).index)\n",
    "top5_df = df[df['Make'].isin(make_list)]\n",
    "top5_df['Make'].value_counts()"
   ]
  },
  {
   "cell_type": "code",
   "execution_count": 145,
   "metadata": {},
   "outputs": [],
   "source": [
    "top5_weather_df = top5_df[(top5_df['Weather.Condition'] == 'IMC') | (top5_df['Weather.Condition'] == 'VMC')]"
   ]
  },
  {
   "cell_type": "code",
   "execution_count": 147,
   "metadata": {},
   "outputs": [
    {
     "data": {
      "text/plain": [
       "Weather.Condition  Make  \n",
       "VMC                Cessna    7646\n",
       "                   Piper     4250\n",
       "                   Beech     1470\n",
       "                   Bell       772\n",
       "                   Boeing     504\n",
       "IMC                Cessna     430\n",
       "                   Piper      306\n",
       "                   Beech      204\n",
       "                   Boeing      43\n",
       "                   Bell        24\n",
       "Name: Event.Id, dtype: int64"
      ]
     },
     "execution_count": 147,
     "metadata": {},
     "output_type": "execute_result"
    }
   ],
   "source": [
    "top5_weather_df_grouped = top5_weather_df.groupby(['Weather.Condition', 'Make'])\n",
    "top5_weather_df_grouped['Event.Id'].count().sort_values(ascending=False)"
   ]
  },
  {
   "cell_type": "code",
   "execution_count": 149,
   "metadata": {},
   "outputs": [
    {
     "data": {
      "text/html": [
       "<div>\n",
       "<style scoped>\n",
       "    .dataframe tbody tr th:only-of-type {\n",
       "        vertical-align: middle;\n",
       "    }\n",
       "\n",
       "    .dataframe tbody tr th {\n",
       "        vertical-align: top;\n",
       "    }\n",
       "\n",
       "    .dataframe thead th {\n",
       "        text-align: right;\n",
       "    }\n",
       "</style>\n",
       "<table border=\"1\" class=\"dataframe\">\n",
       "  <thead>\n",
       "    <tr style=\"text-align: right;\">\n",
       "      <th></th>\n",
       "      <th></th>\n",
       "      <th>mean</th>\n",
       "      <th>sum</th>\n",
       "    </tr>\n",
       "    <tr>\n",
       "      <th>Weather.Condition</th>\n",
       "      <th>Make</th>\n",
       "      <th></th>\n",
       "      <th></th>\n",
       "    </tr>\n",
       "  </thead>\n",
       "  <tbody>\n",
       "    <tr>\n",
       "      <th rowspan=\"4\" valign=\"top\">IMC</th>\n",
       "      <th>Bell</th>\n",
       "      <td>1.958333</td>\n",
       "      <td>47.0</td>\n",
       "    </tr>\n",
       "    <tr>\n",
       "      <th>Piper</th>\n",
       "      <td>1.467320</td>\n",
       "      <td>449.0</td>\n",
       "    </tr>\n",
       "    <tr>\n",
       "      <th>Beech</th>\n",
       "      <td>1.392157</td>\n",
       "      <td>284.0</td>\n",
       "    </tr>\n",
       "    <tr>\n",
       "      <th>Cessna</th>\n",
       "      <td>1.318605</td>\n",
       "      <td>567.0</td>\n",
       "    </tr>\n",
       "    <tr>\n",
       "      <th rowspan=\"5\" valign=\"top\">VMC</th>\n",
       "      <th>Beech</th>\n",
       "      <td>0.509524</td>\n",
       "      <td>749.0</td>\n",
       "    </tr>\n",
       "    <tr>\n",
       "      <th>Bell</th>\n",
       "      <td>0.317358</td>\n",
       "      <td>245.0</td>\n",
       "    </tr>\n",
       "    <tr>\n",
       "      <th>Piper</th>\n",
       "      <td>0.293647</td>\n",
       "      <td>1248.0</td>\n",
       "    </tr>\n",
       "    <tr>\n",
       "      <th>Boeing</th>\n",
       "      <td>0.289683</td>\n",
       "      <td>146.0</td>\n",
       "    </tr>\n",
       "    <tr>\n",
       "      <th>Cessna</th>\n",
       "      <td>0.228878</td>\n",
       "      <td>1750.0</td>\n",
       "    </tr>\n",
       "    <tr>\n",
       "      <th>IMC</th>\n",
       "      <th>Boeing</th>\n",
       "      <td>0.093023</td>\n",
       "      <td>4.0</td>\n",
       "    </tr>\n",
       "  </tbody>\n",
       "</table>\n",
       "</div>"
      ],
      "text/plain": [
       "                              mean     sum\n",
       "Weather.Condition Make                    \n",
       "IMC               Bell    1.958333    47.0\n",
       "                  Piper   1.467320   449.0\n",
       "                  Beech   1.392157   284.0\n",
       "                  Cessna  1.318605   567.0\n",
       "VMC               Beech   0.509524   749.0\n",
       "                  Bell    0.317358   245.0\n",
       "                  Piper   0.293647  1248.0\n",
       "                  Boeing  0.289683   146.0\n",
       "                  Cessna  0.228878  1750.0\n",
       "IMC               Boeing  0.093023     4.0"
      ]
     },
     "execution_count": 149,
     "metadata": {},
     "output_type": "execute_result"
    }
   ],
   "source": [
    "top5_weather_df_grouped[['Total.Fatal.Injuries', 'Total.Serious.Injuries', 'Total.Minor.Injuries']].agg(['mean', 'sum'])['Total.Fatal.Injuries'].sort_values(by=('mean'), ascending=False)"
   ]
  },
  {
   "cell_type": "markdown",
   "metadata": {},
   "source": [
    "## Visualization"
   ]
  },
  {
   "cell_type": "code",
   "execution_count": 158,
   "metadata": {},
   "outputs": [
    {
     "data": {
      "image/png": "[encoded data removed]",
      "text/plain": [
       "<Figure size 600x600 with 1 Axes>"
      ]
     },
     "metadata": {},
     "output_type": "display_data"
    }
   ],
   "source": [
    "fig, ax = plt.subplots(figsize=(6,6))\n",
    "sns.barplot(data=top5_weather_df, x='Make', y='Total.Fatal.Injuries', estimator='mean', hue='Weather.Condition', errorbar=None, ax=ax)\n",
    "\n",
    "ax.set_title('Average Fatal Injuries')\n",
    "\n",
    "plt.show()"
   ]
  },
  {
   "cell_type": "markdown",
   "metadata": {},
   "source": [
    "## Conclusion\n",
    "\n",
    "Boeing clearly has many less fatalities in severe weather conditions, due to being equipped with better navigation equipment. \n",
    "\n",
    "Therefore, a Boeing aircraft should be purchased if travel during severe weather conditions is planned."
   ]
  }
 ],
 "metadata": {
  "kernelspec": {
   "display_name": "Python (fis_default)",
   "language": "python",
   "name": "fis_default"
  },
  "language_info": {
   "codemirror_mode": {
    "name": "ipython",
    "version": 3
   },
   "file_extension": ".py",
   "mimetype": "text/x-python",
   "name": "python",
   "nbconvert_exporter": "python",
   "pygments_lexer": "ipython3",
   "version": "3.9.21"
  }
 },
 "nbformat": 4,
 "nbformat_minor": 2
}
